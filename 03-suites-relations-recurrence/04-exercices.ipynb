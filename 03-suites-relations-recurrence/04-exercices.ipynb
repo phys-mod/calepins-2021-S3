{
 "cells": [
  {
   "cell_type": "markdown",
   "source": [
    "# Exercices"
   ],
   "metadata": {}
  },
  {
   "cell_type": "markdown",
   "source": [
    "## Suite de Fibonacci"
   ],
   "metadata": {}
  },
  {
   "cell_type": "markdown",
   "source": [
    "Leonardo Fibonacci (*circa* 1175 – 1250), mathématicien italien, proposa comme un exercice mathématique amusant le modèle suivant pour décrire la croissance naturelle d’une population de lapins. On suppose qu’on dispose d’un couple de lapins tout juste nés, maintenus isolés de leurs congénères. On suppose de plus que chaque mois, chaque couple âgé d’au moins deux mois engendre un nouveau couple de lapins. On ne tient pas compte de la mortalité naturelle des lapins. Le nombre $C_n$ de couples de lapins suit par conséquent une relation de récurrence,\n",
    "\n",
    "$$\n",
    "C_0 = C_1 = 1 \\ \\ \\ , \\ \\ \\  C_n = C_{n-1}+C_{n-2}\n",
    "$$\n",
    "\n",
    "La suite d’entiers $C_n$ est connue comme la suite de Fibonacci. On commence par inclure les paquets `numpy` et `matplotlib`"
   ],
   "metadata": {}
  },
  {
   "cell_type": "code",
   "execution_count": null,
   "source": [
    "import numpy as np\n",
    "import matplotlib.pyplot as plt"
   ],
   "outputs": [],
   "metadata": {}
  },
  {
   "cell_type": "markdown",
   "source": [
    "1. Créez un tableau `ns` de 50 entiers de 0 à 49 inclus."
   ],
   "metadata": {}
  },
  {
   "cell_type": "code",
   "execution_count": null,
   "source": [
    "N = 50\n",
    "ns = np.arange(50)"
   ],
   "outputs": [],
   "metadata": {
    "tags": [
     "solution"
    ]
   }
  },
  {
   "cell_type": "markdown",
   "source": [
    "2. En utilisant une boucle `for`, la valeur des deux premiers termes $C_0$ et $C_1$, et la relation de récurrence, calculez les 50 premières valeurs de cette suite, et stockez-les dans un tableau numpy `C`."
   ],
   "metadata": {}
  },
  {
   "cell_type": "code",
   "execution_count": null,
   "source": [
    "C = np.empty(N, dtype = 'int64')\n",
    "C[0] = 1\n",
    "C[1] = 1\n",
    "for i in range(2, N):\n",
    "    C[i] = C[i - 1] + C[i - 2]"
   ],
   "outputs": [],
   "metadata": {
    "tags": [
     "solution"
    ]
   }
  },
  {
   "cell_type": "markdown",
   "source": [
    "3. Représentez l’évolution du nombre de couples de lapins en fonction du temps (exprimé en mois), pendant 50 mois. Pensez à ajouter un titre, à indiquez les axes et les unités."
   ],
   "metadata": {}
  },
  {
   "cell_type": "code",
   "execution_count": null,
   "source": [
    "plt.plot(ns, C, 'b+-')\n",
    "plt.title(\"Évolution du nombre de couples de lapins\")\n",
    "plt.xlabel(\"Temps [mois]\")\n",
    "plt.ylabel(\"Couples de lapins\")\n",
    "plt.show()"
   ],
   "outputs": [],
   "metadata": {
    "tags": [
     "solution"
    ]
   }
  },
  {
   "cell_type": "markdown",
   "source": [
    "4. Ajoutez dans votre programme le calcul de la suite des rapports $r_n$ entre deux termes successifs de la suite de Fibonacci (pour $n$ allant de 1 à 49 inclus) :\n",
    "$$\n",
    "r_n = \\frac{C_n}{C_{n-1}}\n",
    "$$"
   ],
   "metadata": {}
  },
  {
   "cell_type": "code",
   "execution_count": null,
   "source": [
    "# Avec boucle :\n",
    "r = np.empty((N - 1,))\n",
    "for i in range(N - 1):\n",
    "    r[i] = C[i + 1] / C[i]\n",
    "\n",
    "# Ou sans boucle :\n",
    "r = np.array(C[1:], dtype = 'float') / C[:-1] # Si on veut être sûr des conversions de type\n",
    "# Ou plus simplement :\n",
    "r = C[1:] / C[:-1]"
   ],
   "outputs": [],
   "metadata": {
    "tags": [
     "solution"
    ]
   }
  },
  {
   "cell_type": "markdown",
   "source": [
    "5. Tracez le graphe de ce rapport $r_n$ en fonction du mois $n$, pour $n$ allant de 1 à 49 inclus."
   ],
   "metadata": {}
  },
  {
   "cell_type": "code",
   "execution_count": null,
   "source": [
    "plt.plot(ns[1:], r, 'b+-')\n",
    "plt.title(\"Suite de Fibonacci : rapport entre termes successifs\")\n",
    "plt.xlabel(\"Temps $n$ [mois]\")\n",
    "plt.ylabel(\"$r_n = C_n/C_{n-1}$\")\n",
    "plt.show()"
   ],
   "outputs": [],
   "metadata": {
    "tags": [
     "solution"
    ]
   }
  },
  {
   "cell_type": "markdown",
   "source": [
    "On peut montrer que le rapport $r_n$ a pour limite le nombre d’or $\\phi = \\frac{1}{2} \\left(1+\\sqrt{5}\\right)$. Pour des $n$ suffisamment grands, la suite $C_n$ tend donc vers une suite géométrique de la forme $A \\phi^n$.\n",
    "\n",
    "6. Tracez les 50 premiers termes de la suite de Fibonacci sur un graphe semi-logarithmique (échelle log selon les ordonnées). La suite de Fibonacci tend-elle bien vers une suite géométrique ?"
   ],
   "metadata": {}
  },
  {
   "cell_type": "code",
   "execution_count": null,
   "source": [
    "plt.semilogy(ns, C, 'b+-')\n",
    "plt.title(\"Suite de Fibonacci\")\n",
    "plt.xlabel(\"Temps [mois]\")\n",
    "plt.ylabel(\"Couples de lapins\")\n",
    "plt.show()"
   ],
   "outputs": [],
   "metadata": {
    "tags": [
     "solution"
    ]
   }
  },
  {
   "cell_type": "markdown",
   "source": [
    "Comme la suite $C_n$ tend vers une suite géométrique, on a de manière immédiate :\n",
    "$$\n",
    "\\lim\\limits_{n \\rightarrow \\infty} D_n = \\lim\\limits_{n \\rightarrow \\infty} \\log(C_n) = \\log A + n \\log \\phi\n",
    "$$\n",
    "\n",
    "7. Calculez la suite $D_n$ et stockez-la dans un tableau numpy."
   ],
   "metadata": {}
  },
  {
   "cell_type": "code",
   "execution_count": null,
   "source": [
    "D = np.log(C)"
   ],
   "outputs": [],
   "metadata": {
    "tags": [
     "solution"
    ]
   }
  }
 ],
 "metadata": {
  "kernelspec": {
   "display_name": "Python 3",
   "language": "python",
   "name": "python3"
  },
  "language_info": {
   "codemirror_mode": {
    "name": "ipython",
    "version": 3
   },
   "file_extension": ".py",
   "mimetype": "text/x-python",
   "name": "python",
   "nbconvert_exporter": "python",
   "pygments_lexer": "ipython3",
   "version": "3.8.3"
  }
 },
 "nbformat": 4,
 "nbformat_minor": 4
}