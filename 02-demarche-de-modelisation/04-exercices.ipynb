{
 "cells": [
  {
   "cell_type": "markdown",
   "metadata": {},
   "source": [
    "# Exercices\n",
    "Le but de ces exercices est d'appliquer le modèle de l'accéleration constante à 1D à de nouvelles situations, de complexifier le modèle et d'explorer ses limitations."
   ]
  },
  {
   "cell_type": "markdown",
   "metadata": {},
   "source": [
    "## Pile ou face\n",
    "On joue à pile ou face avec une pièce de monnaie. Connaissant les conditions initiales du lancer de la pièce, on aimerait connaître sa trajectoire.\n",
    "\n",
    "Les trois représentations du mouvement de la pièce de monnaie sont l'accélération $a$, la vitesse $v$ et la position $z$ selon l'axe $z$ :\n",
    "$$\n",
    "\\left\\{\n",
    "    \\begin{array}{lll}\n",
    "        a(t) &=& g \\\\\n",
    "        v(t) &=& gt + v_0\\\\\n",
    "        z(t) &=& \\dfrac{1}{2} gt^2 + v_0 t + z_0\n",
    "    \\end{array}\n",
    "\\right.\n",
    "$$\n",
    "\n",
    "Vous choisirez pour cet exercice de représenter numériquement les fonctions par des tableaux Numpy 1D (représentation discrète). Vous choisirez vous-même l'intervalle et le pas de temps pour la représentation discrète.\n",
    "\n",
    "1. Représenter graphiquement, l'un au-dessous de l'autre grâce à la fonction `subplot()`, l'accélération, la vitesse et la position $z$ de la pièce, pour $v_0 = -3.2 \\mathrm{~m.s^{-1}}$ et $z_0 = -1.5 \\mathrm{~m}$. Choisir l'intervalle de temps de façon à ce que la pièce dépasse de peu la position $z=0$."
   ]
  },
  {
   "cell_type": "code",
   "execution_count": null,
   "metadata": {
    "tags": [
     "solution"
    ]
   },
   "outputs": [],
   "source": [
    "# Importation des modules\n",
    "import numpy as np\n",
    "import matplotlib.pyplot as plt\n",
    "\n",
    "# Paramètres du problème\n",
    "pesanteur = 9.81 # m.s**-2\n",
    "vitesse_initiale = -3.2 # m.s**-1\n",
    "position_z_initiale = -1.5 # m\n",
    "temps_initial = 0 # s\n",
    "temps_final = 1.0 # s\n",
    "pas_temps = 0.05 # s\n",
    "\n",
    "# Création du tableau temps (discrétisation)\n",
    "intervalle = temps_final - temps_initial\n",
    "num_points = int(intervalle / pas_temps) + 1   # Nombre d'éléments\n",
    "temps = np.linspace(temps_initial, temps_final, num_points)\n",
    "\n",
    "# Création des autres tableaux\n",
    "acceleration = np.ones(temps.shape) * pesanteur\n",
    "vitesse = pesanteur * temps + vitesse_initiale\n",
    "position_z = 1 / 2 * pesanteur * temps ** 2 + vitesse_initiale * temps + position_z_initiale\n",
    "\n",
    "# Représentation de l'accélération\n",
    "plt.subplot(3, 1, 1)\n",
    "plt.plot(temps, acceleration)\n",
    "plt.ylabel('Accélération [m.s$^{-2}$]')\n",
    "plt.grid()\n",
    "plt.tick_params(axis = 'x', labelbottom = False) # Retire les labels de l'axe x\n",
    "plt.title(\"Modèle de l'accélération constante à 1D avec vitesse initiale\")\n",
    "\n",
    "# Représentation de la vitesse\n",
    "plt.subplot(3, 1, 2)\n",
    "plt.plot(temps, vitesse)\n",
    "plt.ylabel('vitesse [m.s$^{-1}$]')\n",
    "plt.grid()\n",
    "plt.tick_params(axis = 'x', labelbottom = False) # Retire les labels de l'axe x\n",
    "\n",
    "# Représentation de la position z\n",
    "plt.subplot(3, 1, 3)\n",
    "plt.plot(temps, position_z)\n",
    "plt.ylabel('position z [m]')\n",
    "plt.xlabel('temps [s]')\n",
    "plt.grid()\n",
    "\n",
    "plt.subplots_adjust(top = 1.5) # Agrandit l'espace entre les figures\n",
    "\n",
    "plt.show()"
   ]
  },
  {
   "cell_type": "markdown",
   "metadata": {},
   "source": [
    "2. Représenter le mouvement de l'objet dans le plan $(x0z)$, pour $x_0 = 4 \\mathrm{~m}$. Sur cette représentation, placer un point rouge à l'endroit de la position initiale de l'objet."
   ]
  },
  {
   "cell_type": "code",
   "execution_count": null,
   "metadata": {
    "tags": [
     "solution"
    ]
   },
   "outputs": [],
   "source": [
    "# Paramètres du problème\n",
    "position_x_initiale = 4 # m\n",
    "\n",
    "# Création du tableau position x\n",
    "position_x = np.ones(temps.shape) * position_x_initiale\n",
    "\n",
    "# Représentation graphique du mouvement\n",
    "plt.plot(position_x, -position_z, 'x-')\n",
    "\n",
    "# Style\n",
    "plt.xlabel(\"position x [m]\")\n",
    "plt.ylabel(\"position -z [m]\")\n",
    "plt.grid()\n",
    "\n",
    "# Position initiale\n",
    "plt.plot(position_x_initiale, -position_z_initiale, 'ro')\n",
    "\n",
    "plt.show()"
   ]
  },
  {
   "cell_type": "markdown",
   "metadata": {},
   "source": [
    "## Tir à l'arc\n",
    "Pour un tir à l'arc, nous souhaitons modéliser la trajectoire de la flèche, en utilisant le modèle de l'accélération constante. Nous modélisons la flèche par une particule ponctuelle. La cible se trouve à $40 \\mathrm{~m}$ du tireur, à une hauteur de $1,\\!5 \\mathrm{~m}$, et fait $50 \\mathrm{~cm}$ de diamètre.\n",
    "\n",
    "Pour un mouvement à 2D suivant les axes $z$ et $x$, nous avons les équations suivantes pour les vitesses suivant les axes $z$ et $x$, respectivement :\n",
    "$$\n",
    "\\left\\{\n",
    "    \\begin{array}{lll}\n",
    "        v_z(t) &=& gt + v_0^z\\\\\n",
    "        v_x(t) &=& v_0^x\n",
    "    \\end{array}\n",
    "\\right.\n",
    "$$\n",
    "\n",
    "et pour les positions suivant les axes $z$ et $x$, respectivement :\n",
    "$$\n",
    "\\left\\{\n",
    "    \\begin{array}{lll}\n",
    "        z(t) &=& \\dfrac{1}{2} gt^2 + v_0^z t + z_0\\\\\n",
    "        x(t) &=& v_0^x t + x_0\n",
    "    \\end{array}\n",
    "\\right.\n",
    "$$\n",
    "\n",
    "1. Créer un DataFrame Pandas pour représenter le mouvement. Vous choisirez vous-même la discrétisation des fonctions. L'index du DataFrame doit représenter le temps. Vous allez ensuite créer 5 colonnes pour le DataFrame, représentant : l'accélération, la vitesse suivant l'axe $z$, la vitesse suivant l'axe $x$, la position suivant l'axe $z$, et la position suivant l'axe $x$. Les paramètres du problème sont :\n",
    "$$\n",
    "\\left\\{\n",
    "    \\begin{array}{lll}\n",
    "        v_0^z = -1.3 \\ \\mathrm{m.s^{-1}}\\\\\n",
    "        v_0^x = 99.6 \\ \\mathrm{m.s^{-1}}\\\\\n",
    "        z_0 = -1.5 \\ \\mathrm{m}\\\\\n",
    "        x_0 = 0.0 \\ \\mathrm{m}\n",
    "    \\end{array}\n",
    "\\right.\n",
    "$$"
   ]
  },
  {
   "cell_type": "code",
   "execution_count": null,
   "metadata": {
    "tags": [
     "solution"
    ]
   },
   "outputs": [],
   "source": [
    "# Importation des modules\n",
    "import numpy as np\n",
    "import pandas as pd\n",
    "\n",
    "# Paramètres du problème\n",
    "pesanteur = 9.81 # m.s**-2\n",
    "vitesse_z_initiale = -1.3 # m.s**-1\n",
    "position_z_initiale = -1.5 # m\n",
    "vitesse_x_initiale = 99.6 # m.s**-1\n",
    "position_x_initiale = 0.0 # m\n",
    "temps_initial = 0 # s\n",
    "temps_final = 0.5 # s\n",
    "pas_temps = 0.01 # s\n",
    "\n",
    "# Création du tableau temps (discrétisation)\n",
    "intervalle = temps_final - temps_initial\n",
    "num_points = int(intervalle / pas_temps) + 1   # Nombre d'éléments\n",
    "temps = np.linspace(temps_initial, temps_final, num_points)\n",
    "\n",
    "# Création du DataFrame avec une colonne accélération\n",
    "acceleration = np.ones(temps.shape) * pesanteur\n",
    "df = pd.DataFrame(data = acceleration, index = temps, columns = ['acceleration'])\n",
    "\n",
    "# Création des autres colonnes\n",
    "df[\"vitesse_z\"] = pesanteur * temps + vitesse_z_initiale\n",
    "df[\"vitesse_x\"] = vitesse_x_initiale\n",
    "df[\"position_z\"] = 1 / 2 * pesanteur * temps ** 2 + vitesse_z_initiale * temps + position_z_initiale\n",
    "df[\"position_x\"] = vitesse_x_initiale * temps + position_x_initiale\n",
    "\n",
    "# Affichage du tableau pour vérification\n",
    "df.head(n = 10)"
   ]
  },
  {
   "cell_type": "markdown",
   "metadata": {},
   "source": [
    "2. Représenter le mouvement de l'objet dans le plan $(x0z)$, pour $z\\in [0,2] \\mathrm{~m}$ et $x\\in [0,40] \\mathrm{~m}$. Sur cette représentation, placer un point rouge à l'endroit de la position initiale de l'objet."
   ]
  },
  {
   "cell_type": "code",
   "execution_count": null,
   "metadata": {
    "tags": [
     "solution"
    ]
   },
   "outputs": [],
   "source": [
    "# Importation des modules\n",
    "import matplotlib.pyplot as plt\n",
    "\n",
    "# Représentation graphique du mouvement\n",
    "plt.plot(df[\"position_x\"], -df[\"position_z\"], 'x-')\n",
    "\n",
    "# Style\n",
    "plt.xlabel(\"position x [m]\")\n",
    "plt.ylabel(\"position -z [m]\")\n",
    "plt.ylim(0, 2)\n",
    "plt.xlim(0, 40)\n",
    "plt.grid()\n",
    "\n",
    "# Position initiale\n",
    "plt.plot(position_x_initiale, -position_z_initiale, 'ro')\n",
    "\n",
    "plt.show()"
   ]
  },
  {
   "cell_type": "markdown",
   "metadata": {},
   "source": [
    "3. En choississant mieux les limites des axes pour la représentation du mouvement, déterminez si le tireur atteint la cible."
   ]
  },
  {
   "cell_type": "code",
   "execution_count": null,
   "metadata": {
    "tags": [
     "solution"
    ]
   },
   "outputs": [],
   "source": [
    "# Représentation graphique du mouvement\n",
    "plt.plot(df[\"position_x\"], -df[\"position_z\"], 'x-')\n",
    "\n",
    "# Style\n",
    "plt.xlabel(\"position x [m]\")\n",
    "plt.ylabel(\"position -z [m]\")\n",
    "plt.ylim(1.5 - 0.25, 1.5 + 0.25)\n",
    "plt.xlim(0,40)\n",
    "plt.grid()\n",
    "\n",
    "plt.show()\n",
    "\n",
    "# On voit que le tireur n'atteint pas sa cible"
   ]
  },
  {
   "cell_type": "markdown",
   "metadata": {},
   "source": [
    "4. En réflechissant aux limites de votre modèle, est-ce que la conclusion de cette étude pourrait être changée ? Comment améliorer le modèle ?"
   ]
  },
  {
   "cell_type": "markdown",
   "metadata": {
    "tags": [
     "solution"
    ]
   },
   "source": [
    "Le modèle de particule ponctuelle pour une flèche n'est sûrement pas adapté. En effet, la flèche, de par sa longueur et son empenage, est optimisée pour garder une trajectoire horizontale. Il faudrait adapter notre modèle de flèche pour prendre en compte son extension, et notre modèle d'interaction pour prendre en compte les frottements de l'air."
   ]
  }
 ],
 "metadata": {
  "celltoolbar": "Tags",
  "kernelspec": {
   "display_name": "Python 3",
   "language": "python",
   "name": "python3"
  },
  "language_info": {
   "codemirror_mode": {
    "name": "ipython",
    "version": 3
   },
   "file_extension": ".py",
   "mimetype": "text/x-python",
   "name": "python",
   "nbconvert_exporter": "python",
   "pygments_lexer": "ipython3",
   "version": "3.8.8"
  }
 },
 "nbformat": 4,
 "nbformat_minor": 4
}
